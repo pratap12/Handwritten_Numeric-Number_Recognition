{
 "cells": [
  {
   "cell_type": "code",
   "execution_count": 2,
   "metadata": {},
   "outputs": [],
   "source": [
    "%matplotlib inline\n",
    "import helper\n",
    "import torch\n",
    "import torch.optim as optim\n",
    "import numpy as np\n",
    "from matplotlib import image , pyplot\n",
    "from torch import nn\n",
    "import torch.nn.functional as F\n",
    "from torchvision import datasets, transforms"
   ]
  },
  {
   "cell_type": "code",
   "execution_count": 153,
   "metadata": {},
   "outputs": [
    {
     "name": "stdout",
     "output_type": "stream",
     "text": [
      "Downloading http://yann.lecun.com/exdb/mnist/train-images-idx3-ubyte.gz to C:\\Users\\GajendraPratap/.pytorch.MNIST_test.csv\\MNIST\\raw\\train-images-idx3-ubyte.gz\n"
     ]
    },
    {
     "name": "stderr",
     "output_type": "stream",
     "text": [
      "100.1%"
     ]
    },
    {
     "name": "stdout",
     "output_type": "stream",
     "text": [
      "Extracting C:\\Users\\GajendraPratap/.pytorch.MNIST_test.csv\\MNIST\\raw\\train-images-idx3-ubyte.gz\n",
      "Downloading http://yann.lecun.com/exdb/mnist/train-labels-idx1-ubyte.gz to C:\\Users\\GajendraPratap/.pytorch.MNIST_test.csv\\MNIST\\raw\\train-labels-idx1-ubyte.gz\n"
     ]
    },
    {
     "name": "stderr",
     "output_type": "stream",
     "text": [
      "113.5%"
     ]
    },
    {
     "name": "stdout",
     "output_type": "stream",
     "text": [
      "Extracting C:\\Users\\GajendraPratap/.pytorch.MNIST_test.csv\\MNIST\\raw\\train-labels-idx1-ubyte.gz\n",
      "Downloading http://yann.lecun.com/exdb/mnist/t10k-images-idx3-ubyte.gz to C:\\Users\\GajendraPratap/.pytorch.MNIST_test.csv\\MNIST\\raw\\t10k-images-idx3-ubyte.gz\n"
     ]
    },
    {
     "name": "stderr",
     "output_type": "stream",
     "text": [
      "100.4%"
     ]
    },
    {
     "name": "stdout",
     "output_type": "stream",
     "text": [
      "Extracting C:\\Users\\GajendraPratap/.pytorch.MNIST_test.csv\\MNIST\\raw\\t10k-images-idx3-ubyte.gz\n",
      "Downloading http://yann.lecun.com/exdb/mnist/t10k-labels-idx1-ubyte.gz to C:\\Users\\GajendraPratap/.pytorch.MNIST_test.csv\\MNIST\\raw\\t10k-labels-idx1-ubyte.gz\n"
     ]
    },
    {
     "name": "stderr",
     "output_type": "stream",
     "text": [
      "180.4%"
     ]
    },
    {
     "name": "stdout",
     "output_type": "stream",
     "text": [
      "Extracting C:\\Users\\GajendraPratap/.pytorch.MNIST_test.csv\\MNIST\\raw\\t10k-labels-idx1-ubyte.gz\n",
      "Processing...\n",
      "Done!\n"
     ]
    }
   ],
   "source": [
    "transform = transforms.Compose([transforms.ToTensor(),transforms.Normalize((0.5,), (0.5,)),])\n",
    "\n",
    "trainset= datasets.MNIST('~/.pytorch.MNIST_train.csv', download=True, train=True, transform=transform)\n",
    "traindata= torch.utils.data.DataLoader(trainset, batch_size=64, shuffle= True)\n",
    "\n",
    "\n",
    "testset= datasets.MNIST('~/.pytorch.MNIST_test.csv', download= True, transform=transform)\n",
    "testdata=torch.utils.data.DataLoader(testset, batch_size=64, shuffle= True)"
   ]
  },
  {
   "cell_type": "code",
   "execution_count": 161,
   "metadata": {},
   "outputs": [],
   "source": [
    "model = nn.Sequential(nn.Linear(784, 128),\n",
    "                      nn.ReLU(),\n",
    "                      nn.Linear(128, 64),\n",
    "                      nn.ReLU(),\n",
    "                      nn.Linear(64, 10),\n",
    "                      nn.LogSoftmax(dim=1))\n",
    "class Network (nn.Module):\n",
    "    def __init__(self):\n",
    "        super().__init__()\n",
    "        fc1= nn.Linear(784, 128)\n",
    "        fc2= nn.Linear(128, 64)\n",
    "        fc3= nn.Liner(64, 10)\n",
    "    def forward(self,x):\n",
    "        x = F.ReLU(fc1(x))\n",
    "        x = F.ReLU(fc1(x))\n",
    "        x = F.Log_Softmax(fc1(x))\n",
    "\n",
    "\n",
    "criterion = nn.NLLLoss()\n",
    "optimizer = optim.SGD(model.parameters(), lr=0.003)"
   ]
  },
  {
   "cell_type": "code",
   "execution_count": 182,
   "metadata": {},
   "outputs": [
    {
     "name": "stdout",
     "output_type": "stream",
     "text": [
      "accuracy is: 89.75666666666666\n",
      "Training loss: 0.3559218673690804\n",
      "Testing loss: 0.34658458246700546 \n",
      "\n",
      "accuracy is: 90.21333333333334\n",
      "Training loss: 0.33869159555257256\n",
      "Testing loss: 0.3297735329534707 \n",
      "\n",
      "accuracy is: 90.59833333333333\n",
      "Training loss: 0.3249090458236651\n",
      "Testing loss: 0.3182914016692877 \n",
      "\n",
      "accuracy is: 90.93\n",
      "Training loss: 0.3135994533454177\n",
      "Testing loss: 0.30634365784429285 \n",
      "\n",
      "accuracy is: 91.17666666666666\n",
      "Training loss: 0.3036917630416244\n",
      "Testing loss: 0.29877027194065325 \n",
      "\n"
     ]
    }
   ],
   "source": [
    "epochs = 5\n",
    "for e in range(epochs):\n",
    "    train_loss = 0\n",
    "    test_loss=0\n",
    "    correct=0\n",
    "    total=0\n",
    "    for images, labels in traindata:\n",
    "        images = images.view(images.shape[0], -1)\n",
    "    \n",
    "        optimizer.zero_grad()\n",
    "        \n",
    "        output = model.forward(images)\n",
    "        \n",
    "        _, predicted = torch.max(output.data, 1)\n",
    "        total += labels.size(0)\n",
    "        correct += (predicted == labels).sum().item()\n",
    "        \n",
    "        loss = criterion(output, labels)\n",
    "        loss.backward()\n",
    "        optimizer.step()\n",
    "        \n",
    "        train_loss += loss.item()\n",
    "        \n",
    "    else:\n",
    "        print(f\"accuracy is: %0.2f\"% (correct/total)*100)\n",
    "        print(f\"Training loss: {train_loss/len(traindata)}\")\n",
    "        \n",
    "        \n",
    "    for images, labels in testdata:\n",
    "        images= images.view(images.shape[0], -1)\n",
    "        \n",
    "        output=model.forward(images)\n",
    "        loss=criterion(output, labels)\n",
    "        test_loss+= loss.item()\n",
    "    else:\n",
    "        print(f\"Testing loss: {test_loss/len(testdata)} \\n\" )"
   ]
  },
  {
   "cell_type": "code",
   "execution_count": 220,
   "metadata": {},
   "outputs": [
    {
     "name": "stdout",
     "output_type": "stream",
     "text": [
      "torch.Size([1, 28, 28])\n"
     ]
    }
   ],
   "source": [
    "print(images[0].shape)"
   ]
  },
  {
   "cell_type": "code",
   "execution_count": 221,
   "metadata": {},
   "outputs": [
    {
     "data": {
      "image/png": "[encoded data removed]",
      "text/plain": [
       "<Figure size 432x288 with 1 Axes>"
      ]
     },
     "metadata": {
      "needs_background": "light"
     },
     "output_type": "display_data"
    },
    {
     "data": {
      "image/png": "[encoded data removed]",
      "text/plain": [
       "<Figure size 432x648 with 2 Axes>"
      ]
     },
     "metadata": {
      "needs_background": "light"
     },
     "output_type": "display_data"
    }
   ],
   "source": [
    "\n",
    "\n",
    "images, label= next(iter(traindata))\n",
    "img= images[0].view(1,784)\n",
    "\n",
    "with torch.no_grad():\n",
    "    logit= model.forward(img)\n",
    "img1=img.resize_(28,28)\n",
    "pyplot.imshow(img1, cmap=plt.get_cmap('gray'), vmin=0, vmax=1)\n",
    "pyplot.show()\n",
    "\n",
    "op= F.softmax(logit, dim=1)\n",
    "helper.view_classify(img.view(1,28,28), op)"
   ]
  },
  {
   "cell_type": "code",
   "execution_count": 225,
   "metadata": {},
   "outputs": [
    {
     "name": "stdout",
     "output_type": "stream",
     "text": [
      "torch.Size([28, 28]) torch.float32\n",
      "tensor([[-1.0000, -1.0000, -1.0000, -1.0000, -1.0000, -1.0000, -1.0000, -1.0000,\n",
      "         -1.0000, -1.0000, -1.0000, -1.0000, -1.0000, -1.0000, -1.0000, -1.0000,\n",
      "         -1.0000, -1.0000, -1.0000, -1.0000, -1.0000, -1.0000, -1.0000, -1.0000,\n",
      "         -1.0000, -1.0000, -1.0000, -1.0000],\n",
      "        [-1.0000, -1.0000, -1.0000, -1.0000, -1.0000, -1.0000, -1.0000, -1.0000,\n",
      "         -1.0000, -1.0000, -1.0000, -1.0000, -1.0000, -1.0000, -1.0000, -1.0000,\n",
      "         -1.0000, -1.0000, -1.0000, -1.0000, -1.0000, -1.0000, -1.0000, -1.0000,\n",
      "         -1.0000, -1.0000, -1.0000, -1.0000],\n",
      "        [-1.0000, -1.0000, -1.0000, -1.0000, -1.0000, -1.0000, -1.0000, -1.0000,\n",
      "         -1.0000, -1.0000, -1.0000, -1.0000, -1.0000, -1.0000, -1.0000, -1.0000,\n",
      "         -1.0000, -1.0000, -1.0000, -1.0000, -1.0000, -1.0000, -1.0000, -1.0000,\n",
      "         -1.0000, -1.0000, -1.0000, -1.0000],\n",
      "        [-1.0000, -1.0000, -1.0000, -1.0000, -1.0000, -1.0000, -1.0000, -1.0000,\n",
      "         -1.0000, -1.0000, -1.0000, -1.0000, -1.0000, -1.0000, -1.0000, -1.0000,\n",
      "         -1.0000, -1.0000, -1.0000, -1.0000, -1.0000, -1.0000, -1.0000, -1.0000,\n",
      "         -1.0000, -1.0000, -1.0000, -1.0000],\n",
      "        [-1.0000, -1.0000, -1.0000, -1.0000, -1.0000, -1.0000, -1.0000, -1.0000,\n",
      "         -1.0000, -1.0000, -1.0000, -1.0000, -1.0000, -1.0000, -1.0000, -1.0000,\n",
      "         -1.0000, -1.0000, -1.0000, -1.0000, -1.0000, -1.0000, -1.0000, -1.0000,\n",
      "         -1.0000, -1.0000, -1.0000, -1.0000],\n",
      "        [-1.0000, -1.0000, -1.0000, -1.0000, -1.0000, -1.0000, -1.0000, -1.0000,\n",
      "         -1.0000, -1.0000, -1.0000, -1.0000, -1.0000, -1.0000, -1.0000, -1.0000,\n",
      "         -1.0000, -1.0000, -1.0000, -1.0000, -1.0000, -1.0000,  0.3804,  0.9922,\n",
      "         -0.0667, -1.0000, -1.0000, -1.0000],\n",
      "        [-1.0000, -1.0000, -1.0000, -1.0000, -1.0000, -1.0000, -1.0000, -1.0000,\n",
      "         -1.0000, -1.0000, -1.0000, -1.0000, -0.8902, -0.9843, -1.0000, -1.0000,\n",
      "         -1.0000, -1.0000, -1.0000, -1.0000, -1.0000, -1.0000,  0.3176,  0.9843,\n",
      "          0.2157, -1.0000, -1.0000, -1.0000],\n",
      "        [-1.0000, -1.0000, -1.0000, -1.0000, -1.0000, -1.0000, -1.0000, -1.0000,\n",
      "         -1.0000, -1.0000, -0.8510,  0.2627,  0.7961, -0.8510, -1.0000, -1.0000,\n",
      "         -1.0000, -1.0000, -1.0000, -1.0000, -1.0000, -0.9451,  0.3255,  0.8824,\n",
      "         -0.4510, -1.0000, -1.0000, -1.0000],\n",
      "        [-1.0000, -1.0000, -1.0000, -1.0000, -1.0000, -1.0000, -1.0000, -1.0000,\n",
      "         -1.0000, -1.0000, -0.0039,  0.9843,  0.2941, -0.9843, -1.0000, -1.0000,\n",
      "         -1.0000, -1.0000, -1.0000, -1.0000, -0.9216,  0.6157,  0.9843,  0.5529,\n",
      "         -1.0000, -1.0000, -1.0000, -1.0000],\n",
      "        [-1.0000, -1.0000, -1.0000, -1.0000, -1.0000, -1.0000, -1.0000, -1.0000,\n",
      "         -1.0000, -0.4039,  0.9922,  0.8588, -0.8588, -1.0000, -1.0000, -1.0000,\n",
      "         -1.0000, -1.0000, -1.0000, -1.0000, -0.2392,  0.9843,  0.9843, -0.3804,\n",
      "         -1.0000, -1.0000, -1.0000, -1.0000],\n",
      "        [-1.0000, -1.0000, -1.0000, -1.0000, -1.0000, -1.0000, -1.0000, -1.0000,\n",
      "         -0.5137,  0.9922,  1.0000,  0.0667, -1.0000, -1.0000, -1.0000, -1.0000,\n",
      "         -1.0000, -1.0000, -1.0000, -0.5216,  1.0000,  0.9922,  0.1922, -1.0000,\n",
      "         -1.0000, -1.0000, -1.0000, -1.0000],\n",
      "        [-1.0000, -1.0000, -1.0000, -1.0000, -1.0000, -1.0000, -1.0000, -0.4196,\n",
      "          0.8431,  0.9843,  0.4824, -0.8353, -1.0000, -1.0000, -1.0000, -1.0000,\n",
      "         -1.0000, -1.0000, -0.6784,  0.7961,  0.9922,  0.7333, -0.9059, -1.0000,\n",
      "         -1.0000, -1.0000, -1.0000, -1.0000],\n",
      "        [-1.0000, -1.0000, -1.0000, -1.0000, -1.0000, -1.0000, -1.0000,  0.3725,\n",
      "          0.9843,  0.9843, -0.2235, -1.0000, -1.0000, -1.0000, -1.0000, -1.0000,\n",
      "         -1.0000, -1.0000, -0.4588,  0.9843,  0.9922, -0.4039, -1.0000, -1.0000,\n",
      "         -1.0000, -1.0000, -1.0000, -1.0000],\n",
      "        [-1.0000, -1.0000, -1.0000, -1.0000, -1.0000, -1.0000, -0.0275,  0.9373,\n",
      "          0.9843,  0.9843,  0.4824, -0.6000, -1.0000, -1.0000, -1.0000, -1.0000,\n",
      "         -0.7333,  0.3647,  0.8588,  0.9843,  0.4431, -0.9765, -1.0000, -1.0000,\n",
      "         -1.0000, -1.0000, -1.0000, -1.0000],\n",
      "        [-1.0000, -1.0000, -1.0000, -1.0000, -1.0000, -0.6392,  0.9137,  0.9843,\n",
      "          0.9843,  0.9843,  0.9922,  0.8902, -0.2314, -0.1137,  0.2314,  0.5373,\n",
      "          0.9137,  0.9843,  0.9843,  0.9843, -0.8196, -1.0000, -1.0000, -1.0000,\n",
      "         -1.0000, -1.0000, -1.0000, -1.0000],\n",
      "        [-1.0000, -1.0000, -1.0000, -1.0000, -1.0000,  0.0510,  0.9922,  0.6706,\n",
      "         -0.8824, -0.4039,  0.6392,  0.9922,  0.9922,  0.9922,  0.9922,  1.0000,\n",
      "          0.9922,  0.9922,  0.9922,  0.2157, -1.0000, -1.0000, -1.0000, -1.0000,\n",
      "         -1.0000, -1.0000, -1.0000, -1.0000],\n",
      "        [-1.0000, -1.0000, -1.0000, -1.0000, -1.0000, -0.9294, -0.4039, -0.9059,\n",
      "         -1.0000, -1.0000, -0.9294, -0.3412,  0.5922,  0.7098,  0.0588,  0.0667,\n",
      "          0.8431,  0.9843,  0.7804, -0.3412, -1.0000, -1.0000, -1.0000, -1.0000,\n",
      "         -1.0000, -1.0000, -1.0000, -1.0000],\n",
      "        [-1.0000, -1.0000, -1.0000, -1.0000, -1.0000, -1.0000, -1.0000, -1.0000,\n",
      "         -1.0000, -1.0000, -1.0000, -1.0000, -1.0000, -1.0000, -1.0000, -0.4431,\n",
      "          0.8902,  0.7882, -0.3647, -1.0000, -1.0000, -1.0000, -1.0000, -1.0000,\n",
      "         -1.0000, -1.0000, -1.0000, -1.0000],\n",
      "        [-1.0000, -1.0000, -1.0000, -1.0000, -1.0000, -1.0000, -1.0000, -1.0000,\n",
      "         -1.0000, -1.0000, -1.0000, -1.0000, -1.0000, -1.0000, -0.7569,  0.9294,\n",
      "          0.9843,  0.4824, -0.9373, -1.0000, -1.0000, -1.0000, -1.0000, -1.0000,\n",
      "         -1.0000, -1.0000, -1.0000, -1.0000],\n",
      "        [-1.0000, -1.0000, -1.0000, -1.0000, -1.0000, -1.0000, -1.0000, -1.0000,\n",
      "         -1.0000, -1.0000, -1.0000, -1.0000, -1.0000, -0.8745,  0.4039,  0.9922,\n",
      "          0.5686, -0.8588, -1.0000, -1.0000, -1.0000, -1.0000, -1.0000, -1.0000,\n",
      "         -1.0000, -1.0000, -1.0000, -1.0000],\n",
      "        [-1.0000, -1.0000, -1.0000, -1.0000, -1.0000, -1.0000, -1.0000, -1.0000,\n",
      "         -1.0000, -1.0000, -1.0000, -1.0000, -1.0000,  0.2471,  0.9922,  1.0000,\n",
      "          0.1843, -1.0000, -1.0000, -1.0000, -1.0000, -1.0000, -1.0000, -1.0000,\n",
      "         -1.0000, -1.0000, -1.0000, -1.0000],\n",
      "        [-1.0000, -1.0000, -1.0000, -1.0000, -1.0000, -1.0000, -1.0000, -1.0000,\n",
      "         -1.0000, -1.0000, -1.0000, -0.9843, -0.3725,  0.9608,  0.9843,  0.5373,\n",
      "         -0.9529, -1.0000, -1.0000, -1.0000, -1.0000, -1.0000, -1.0000, -1.0000,\n",
      "         -1.0000, -1.0000, -1.0000, -1.0000],\n",
      "        [-1.0000, -1.0000, -1.0000, -1.0000, -1.0000, -1.0000, -1.0000, -1.0000,\n",
      "         -1.0000, -1.0000, -1.0000, -0.8902,  0.7961,  0.9843,  0.9843, -0.7647,\n",
      "         -1.0000, -1.0000, -1.0000, -1.0000, -1.0000, -1.0000, -1.0000, -1.0000,\n",
      "         -1.0000, -1.0000, -1.0000, -1.0000],\n",
      "        [-1.0000, -1.0000, -1.0000, -1.0000, -1.0000, -1.0000, -1.0000, -1.0000,\n",
      "         -1.0000, -1.0000, -1.0000, -0.2627,  0.9373,  0.9843, -0.4353, -1.0000,\n",
      "         -1.0000, -1.0000, -1.0000, -1.0000, -1.0000, -1.0000, -1.0000, -1.0000,\n",
      "         -1.0000, -1.0000, -1.0000, -1.0000],\n",
      "        [-1.0000, -1.0000, -1.0000, -1.0000, -1.0000, -1.0000, -1.0000, -1.0000,\n",
      "         -1.0000, -1.0000, -1.0000, -0.6078,  0.7490,  0.1529, -0.8902, -1.0000,\n",
      "         -1.0000, -1.0000, -1.0000, -1.0000, -1.0000, -1.0000, -1.0000, -1.0000,\n",
      "         -1.0000, -1.0000, -1.0000, -1.0000],\n",
      "        [-1.0000, -1.0000, -1.0000, -1.0000, -1.0000, -1.0000, -1.0000, -1.0000,\n",
      "         -1.0000, -1.0000, -1.0000, -1.0000, -1.0000, -1.0000, -1.0000, -1.0000,\n",
      "         -1.0000, -1.0000, -1.0000, -1.0000, -1.0000, -1.0000, -1.0000, -1.0000,\n",
      "         -1.0000, -1.0000, -1.0000, -1.0000],\n",
      "        [-1.0000, -1.0000, -1.0000, -1.0000, -1.0000, -1.0000, -1.0000, -1.0000,\n",
      "         -1.0000, -1.0000, -1.0000, -1.0000, -1.0000, -1.0000, -1.0000, -1.0000,\n",
      "         -1.0000, -1.0000, -1.0000, -1.0000, -1.0000, -1.0000, -1.0000, -1.0000,\n",
      "         -1.0000, -1.0000, -1.0000, -1.0000],\n",
      "        [-1.0000, -1.0000, -1.0000, -1.0000, -1.0000, -1.0000, -1.0000, -1.0000,\n",
      "         -1.0000, -1.0000, -1.0000, -1.0000, -1.0000, -1.0000, -1.0000, -1.0000,\n",
      "         -1.0000, -1.0000, -1.0000, -1.0000, -1.0000, -1.0000, -1.0000, -1.0000,\n",
      "         -1.0000, -1.0000, -1.0000, -1.0000]])\n"
     ]
    }
   ],
   "source": [
    "print(img.shape, img.dtype)\n",
    "print(img)"
   ]
  },
  {
   "cell_type": "code",
   "execution_count": 268,
   "metadata": {},
   "outputs": [
    {
     "name": "stdout",
     "output_type": "stream",
     "text": [
      "(28, 28, 3)\n",
      "(28, 28)\n"
     ]
    },
    {
     "data": {
      "image/png": "[encoded data removed]",
      "text/plain": [
       "<Figure size 432x288 with 1 Axes>"
      ]
     },
     "metadata": {
      "needs_background": "light"
     },
     "output_type": "display_data"
    }
   ],
   "source": [
    "#MANUALLY INPUTTING THE IMAGE\n",
    "\n",
    "def rgb2gray(rgb):\n",
    "    return np.dot(rgb[...,:3], [0.2989, 0.5870, 0.1140])\n",
    "\n",
    "\n",
    "\n",
    "img = image.imread('9.png')     \n",
    "print(img.shape)\n",
    "gray = rgb2gray(img) \n",
    "print(gray.shape)\n",
    "#print(1-gray)\n",
    "pyplot.imshow(gray, cmap=plt.get_cmap('gray'), vmin=0, vmax=1)\n",
    "pyplot.show()"
   ]
  },
  {
   "cell_type": "code",
   "execution_count": 269,
   "metadata": {},
   "outputs": [
    {
     "data": {
      "image/png": "[encoded data removed]",
      "text/plain": [
       "<Figure size 432x288 with 1 Axes>"
      ]
     },
     "metadata": {
      "needs_background": "light"
     },
     "output_type": "display_data"
    },
    {
     "name": "stdout",
     "output_type": "stream",
     "text": [
      "(28, 28)\n"
     ]
    }
   ],
   "source": [
    "\n",
    "gray=1-gray\n",
    "pyplot.imshow(gray, cmap=plt.get_cmap('gray'), vmin=0, vmax=1)\n",
    "pyplot.show()\n",
    "print(gray.shape)"
   ]
  },
  {
   "cell_type": "code",
   "execution_count": 270,
   "metadata": {},
   "outputs": [
    {
     "name": "stdout",
     "output_type": "stream",
     "text": [
      "[[-0.9998     -0.9998     -0.9998     -0.9998     -0.9998     -0.9998\n",
      "  -0.9998     -0.9998     -0.9998     -0.9998     -0.9998     -0.9998\n",
      "  -0.9998     -0.9998     -0.9998     -0.9998     -0.9998     -0.9998\n",
      "  -0.9998     -0.9998     -0.9998     -0.9998     -0.9998     -0.9998\n",
      "  -0.9998     -0.9998     -0.9998     -0.9998    ]\n",
      " [-0.9998     -0.9998     -0.9998     -0.9998     -0.9998     -0.9998\n",
      "  -0.9998     -0.80374119 -0.06656006  0.02754823  0.03539059 -0.02734829\n",
      "  -0.31751533 -0.81942589 -0.9998     -0.9998     -0.9998     -0.9998\n",
      "  -0.9998     -0.9998     -0.9998     -0.9998     -0.9998     -0.9998\n",
      "  -0.9998     -0.9998     -0.9998     -0.9998    ]\n",
      " [-0.9998     -0.9998     -0.9998     -0.9998     -0.9998     -0.9998\n",
      "  -0.75668707  0.6314094   0.96078823  1.          1.          1.\n",
      "   1.          1.          0.63925176  0.15302587 -0.77237178 -0.9998\n",
      "  -0.9998     -0.9998     -0.9998     -0.9998     -0.9998     -0.9998\n",
      "  -0.9998     -0.9998     -0.9998     -0.9998    ]\n",
      " [-0.9998     -0.9998     -0.9998     -0.9998     -0.9998     -0.9998\n",
      "   0.45103527  1.          0.97647294  1.          1.          0.96863059\n",
      "   1.          0.99215765  1.          1.          0.10597176 -0.9998\n",
      "  -0.9998     -0.9998     -0.9998     -0.9998     -0.9998     -0.9998\n",
      "  -0.9998     -0.9998     -0.9998     -0.9998    ]\n",
      " [-0.9998     -0.9998     -0.9998     -0.9998     -0.9998     -0.70963296\n",
      "   1.          1.          0.97647294  1.          1.          0.82746823\n",
      "   1.          1.          0.97647294  0.96863059  0.89804941 -0.45867768\n",
      "  -0.9998     -0.9998     -0.9998     -0.9998     -0.9998     -0.9998\n",
      "  -0.9998     -0.9998     -0.9998     -0.9998    ]\n",
      " [-0.9998     -0.9998     -0.9998     -0.9998     -0.9998     -0.043033\n",
      "   1.          0.98431529  0.93726117 -0.25477651 -0.46652003 -0.39593886\n",
      "  -0.01166359  0.74904469  1.          0.78041412  1.          0.79609882\n",
      "  -0.70179061 -0.9998     -0.9998     -0.9998     -0.9998     -0.9998\n",
      "  -0.9998     -0.9998     -0.9998     -0.9998    ]\n",
      " [-0.9998     -0.9998     -0.9998     -0.9998     -0.9998      0.38829645\n",
      "   1.          1.          0.79609882 -0.9998     -0.9998     -0.9998\n",
      "  -0.9998     -0.91353412 -0.30967298  0.87452235  1.          1.\n",
      "  -0.01950594 -0.9998     -0.9998     -0.9998     -0.9998     -0.9998\n",
      "  -0.9998     -0.9998     -0.9998     -0.9998    ]\n",
      " [-0.9998     -0.9998     -0.9998     -0.9998     -0.9998      0.33339998\n",
      "   1.          1.          0.2471341  -0.9998     -0.9998     -0.9998\n",
      "  -0.9998     -0.9998     -0.9998      0.59219764  1.          1.\n",
      "   0.33339998 -0.9998     -0.9998     -0.9998     -0.9998     -0.9998\n",
      "  -0.9998     -0.9998     -0.9998     -0.9998    ]\n",
      " [-0.9998     -0.9998     -0.9998     -0.9998     -0.9998      0.6314094\n",
      "   1.          0.99215765  0.27850351 -0.9998     -0.9998     -0.9998\n",
      "  -0.9998     -0.9998     -0.9998      0.65493646  1.          1.\n",
      "   0.6157247  -0.9998     -0.9998     -0.9998     -0.9998     -0.9998\n",
      "  -0.9998     -0.9998     -0.9998     -0.9998    ]\n",
      " [-0.9998     -0.9998     -0.9998     -0.9998     -0.9998      0.48240468\n",
      "   1.          1.          0.32555763 -0.9998     -0.9998     -0.9998\n",
      "  -0.9998     -0.9998     -0.96843059  0.74120234  1.          1.\n",
      "   0.69414822 -0.99195765 -0.9998     -0.9998     -0.9998     -0.9998\n",
      "  -0.9998     -0.9998     -0.9998     -0.9998    ]\n",
      " [-0.9998     -0.9998     -0.9998     -0.9998     -0.9998      0.43535056\n",
      "   1.          0.99215765  1.         -0.9998     -0.9998     -0.9998\n",
      "  -0.9998     -0.9998     -0.65473649  1.          1.          1.\n",
      "   0.58435529 -0.9998     -0.9998     -0.9998     -0.9998     -0.9998\n",
      "  -0.9998     -0.9998     -0.9998     -0.9998    ]\n",
      " [-0.9998     -0.9998     -0.9998     -0.9998     -0.9998      0.02754823\n",
      "   1.          1.          0.89020706  0.73335999 -0.02734829 -0.043033\n",
      "  -0.27830357 -0.23909181  0.70983293  1.          1.          1.\n",
      "   0.46671997 -0.9998     -0.9998     -0.9998     -0.9998     -0.9998\n",
      "  -0.9998     -0.9998     -0.9998     -0.9998    ]\n",
      " [-0.9998     -0.9998     -0.9998     -0.9998     -0.9998     -0.59984002\n",
      "   1.          1.          1.          0.95294588  1.          1.\n",
      "   0.81178353  0.93726117  0.78825647  0.99215765  1.          0.94510353\n",
      "   0.41966586 -0.9998     -0.9998     -0.9998     -0.9998     -0.9998\n",
      "  -0.9998     -0.9998     -0.9998     -0.9998    ]\n",
      " [-0.9998     -0.9998     -0.9998     -0.9998     -0.9998     -0.9998\n",
      "  -0.043033    0.92157647  1.          1.          0.96863059  0.95294588\n",
      "   1.          1.          1.          1.          1.          0.98431529\n",
      "  -0.10577182 -0.99195765 -0.9998     -0.9998     -0.9998     -0.9998\n",
      "  -0.9998     -0.9998     -0.9998     -0.9998    ]\n",
      " [-0.9998     -0.9998     -0.9998     -0.9998     -0.9998     -0.9998\n",
      "  -0.9998     -0.07440241  0.65493646  1.          1.          1.\n",
      "   0.92157647  0.91373412  0.98431529  0.97647294  0.85883764  0.84315294\n",
      "   0.07460235 -0.9998     -0.9998     -0.9998     -0.9998     -0.9998\n",
      "  -0.9998     -0.9998     -0.9998     -0.9998    ]\n",
      " [-0.9998     -0.9998     -0.9998     -0.9998     -0.9998     -0.9998\n",
      "  -0.9998     -0.9998     -0.8351106  -0.01950594  0.2471341   0.43535056\n",
      "   0.80394117  0.74904469  0.01970588  0.53730117  1.          0.89020706\n",
      "   0.54514353 -0.9998     -0.9998     -0.9998     -0.9998     -0.9998\n",
      "  -0.9998     -0.9998     -0.9998     -0.9998    ]\n",
      " [-0.9998     -0.9998     -0.9998     -0.9998     -0.9998     -0.9998\n",
      "  -0.9998     -0.9998     -0.9998     -0.99195765 -0.95274589 -0.97627294\n",
      "  -0.9998     -0.9998     -0.5371012   0.74904469  1.          1.\n",
      "   0.48240468 -0.9998     -0.9998     -0.9998     -0.9998     -0.9998\n",
      "  -0.9998     -0.9998     -0.9998     -0.9998    ]\n",
      " [-0.9998     -0.9998     -0.9998     -0.9998     -0.9998     -0.9998\n",
      "  -0.9998     -0.9998     -0.9998     -0.9998     -0.9998     -0.9998\n",
      "  -0.9998     -0.9998      0.13734117  1.          1.          1.\n",
      "  -0.2077224  -0.9998     -0.9998     -0.9998     -0.9998     -0.9998\n",
      "  -0.9998     -0.9998     -0.9998     -0.9998    ]\n",
      " [-0.9998     -0.9998     -0.9998     -0.9998     -0.9998     -0.9998\n",
      "  -0.9998     -0.9998     -0.9998     -0.9998     -0.9998     -0.9998\n",
      "  -0.9998     -0.84295295  0.76472941  1.          0.99215765  0.85099529\n",
      "  -0.9998     -0.9998     -0.9998     -0.9998     -0.9998     -0.9998\n",
      "  -0.9998     -0.9998     -0.9998     -0.9998    ]\n",
      " [-0.9998     -0.9998     -0.9998     -0.9998     -0.9998     -0.9998\n",
      "  -0.9998     -0.9998     -0.9998     -0.9998     -0.9998     -0.9998\n",
      "  -0.9841153   0.18439528  0.98431529  0.99215765  1.         -0.07440241\n",
      "  -0.9998     -0.9998     -0.9998     -0.9998     -0.9998     -0.9998\n",
      "  -0.9998     -0.9998     -0.9998     -0.9998    ]\n",
      " [-0.9998     -0.9998     -0.9998     -0.9998     -0.9998     -0.9998\n",
      "  -0.9998     -0.9998     -0.9998     -0.9998     -0.9998     -0.65473649\n",
      "   0.49024703  1.          0.98431529  1.          0.94510353 -0.8507953\n",
      "  -0.9998     -0.9998     -0.9998     -0.9998     -0.9998     -0.9998\n",
      "  -0.9998     -0.9998     -0.9998     -0.9998    ]\n",
      " [-0.9998     -0.9998     -0.9998     -0.9998     -0.9998     -0.9998\n",
      "  -0.9998     -0.9998     -0.9998     -0.93706118  0.21576469  0.77257176\n",
      "   1.          1.          0.96078823  1.         -0.58415532 -0.9998\n",
      "  -0.9998     -0.9998     -0.9998     -0.9998     -0.9998     -0.9998\n",
      "  -0.9998     -0.9998     -0.9998     -0.9998    ]\n",
      " [-0.9998     -0.9998     -0.9998     -0.9998     -0.9998     -0.9998\n",
      "  -0.5371012  -0.23124946  0.15302587  0.57651294  0.92157647  1.\n",
      "   1.          0.95294588  1.         -0.08224476 -0.9998     -0.9998\n",
      "  -0.9998     -0.9998     -0.9998     -0.9998     -0.9998     -0.9998\n",
      "  -0.9998     -0.9998     -0.9998     -0.9998    ]\n",
      " [-0.9998     -0.9998     -0.9998     -0.9998     -0.9998     -0.9998\n",
      "   0.14518352  1.          1.          0.94510353  1.          1.\n",
      "   1.          0.92157647 -0.49788944 -0.9998     -0.9998     -0.9998\n",
      "  -0.9998     -0.9998     -0.9998     -0.9998     -0.9998     -0.9998\n",
      "  -0.9998     -0.9998     -0.9998     -0.9998    ]\n",
      " [-0.9998     -0.9998     -0.9998     -0.9998     -0.9998     -0.9998\n",
      "  -0.23124946  1.          1.          1.          1.          0.83531058\n",
      "   0.25497646 -0.99195765 -0.9998     -0.9998     -0.9998     -0.9998\n",
      "  -0.9998     -0.9998     -0.9998     -0.9998     -0.9998     -0.9998\n",
      "  -0.9998     -0.9998     -0.9998     -0.9998    ]\n",
      " [-0.9998     -0.9998     -0.9998     -0.9998     -0.9998     -0.9998\n",
      "  -0.62336708  1.          1.          0.98431529  0.60788235 -0.01166359\n",
      "  -0.9998     -0.9998     -0.9998     -0.9998     -0.9998     -0.9998\n",
      "  -0.9998     -0.9998     -0.9998     -0.9998     -0.9998     -0.9998\n",
      "  -0.9998     -0.9998     -0.9998     -0.9998    ]\n",
      " [-0.9998     -0.9998     -0.9998     -0.9998     -0.9998     -0.9998\n",
      "  -0.9998      0.01186353 -0.34104239 -0.48220474 -0.66257884 -0.9998\n",
      "  -0.9998     -0.9998     -0.9998     -0.9998     -0.9998     -0.9998\n",
      "  -0.9998     -0.9998     -0.9998     -0.9998     -0.9998     -0.9998\n",
      "  -0.9998     -0.9998     -0.9998     -0.9998    ]\n",
      " [-0.9998     -0.9998     -0.9998     -0.9998     -0.9998     -0.9998\n",
      "  -0.9998     -0.9998     -0.9998     -0.9998     -0.9998     -0.9998\n",
      "  -0.9998     -0.9998     -0.9998     -0.9998     -0.9998     -0.9998\n",
      "  -0.9998     -0.9998     -0.9998     -0.9998     -0.9998     -0.9998\n",
      "  -0.9998     -0.9998     -0.9998     -0.9998    ]]\n"
     ]
    }
   ],
   "source": [
    "gray= (gray-0.5)/0.5\n",
    "print(gray)"
   ]
  },
  {
   "cell_type": "code",
   "execution_count": 271,
   "metadata": {},
   "outputs": [],
   "source": [
    "\n",
    "%matplotlib inline\n",
    "import helper\n",
    "\n",
    "gray=torch.from_numpy(gray)\n",
    "gray=gray.float()\n",
    "#gray.resize_(1,784);"
   ]
  },
  {
   "cell_type": "code",
   "execution_count": 272,
   "metadata": {},
   "outputs": [
    {
     "name": "stdout",
     "output_type": "stream",
     "text": [
      "torch.Size([1, 784]) torch.float32\n"
     ]
    }
   ],
   "source": [
    "gray= gray.view(1,784)\n",
    "print(gray.shape, gray.dtype)"
   ]
  },
  {
   "cell_type": "code",
   "execution_count": 273,
   "metadata": {},
   "outputs": [
    {
     "name": "stdout",
     "output_type": "stream",
     "text": [
      "(tensor([0.8646]), tensor([3]))\n"
     ]
    },
    {
     "data": {
      "image/png": "[encoded data removed]",
      "text/plain": [
       "<Figure size 432x648 with 2 Axes>"
      ]
     },
     "metadata": {
      "needs_background": "light"
     },
     "output_type": "display_data"
    }
   ],
   "source": [
    "\n",
    "with torch.no_grad():\n",
    "    logps = model.forward(gray)\n",
    "\n",
    "    \n",
    "ps = F.softmax(logps,dim=1)\n",
    "helper.view_classify(gray.view(1, 28, 28), ps)\n",
    "result=ps.max(1)\n",
    "print(result)"
   ]
  },
  {
   "cell_type": "code",
   "execution_count": null,
   "metadata": {},
   "outputs": [],
   "source": []
  }
 ],
 "metadata": {
  "kernelspec": {
   "display_name": "Python 3",
   "language": "python",
   "name": "python3"
  },
  "language_info": {
   "codemirror_mode": {
    "name": "ipython",
    "version": 3
   },
   "file_extension": ".py",
   "mimetype": "text/x-python",
   "name": "python",
   "nbconvert_exporter": "python",
   "pygments_lexer": "ipython3",
   "version": "3.7.3"
  }
 },
 "nbformat": 4,
 "nbformat_minor": 2
}
